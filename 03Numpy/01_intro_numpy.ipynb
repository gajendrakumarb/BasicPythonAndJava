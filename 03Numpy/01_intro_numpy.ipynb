{
 "cells": [
  {
   "cell_type": "code",
   "execution_count": 95,
   "metadata": {},
   "outputs": [
    {
     "name": "stdout",
     "output_type": "stream",
     "text": [
      "Hello World\n"
     ]
    }
   ],
   "source": [
    "import numpy as np\n",
    "print(\"Hello World\")"
   ]
  },
  {
   "cell_type": "code",
   "execution_count": 96,
   "id": "447ad62c",
   "metadata": {},
   "outputs": [
    {
     "name": "stdout",
     "output_type": "stream",
     "text": [
      "this is amazinng\n"
     ]
    }
   ],
   "source": [
    "print(\"this is amazinng\")"
   ]
  },
  {
   "cell_type": "markdown",
   "id": "092c1780",
   "metadata": {},
   "source": [
    "**This is markdown sentance**"
   ]
  },
  {
   "cell_type": "markdown",
   "id": "9c92e552",
   "metadata": {},
   "source": [
    "#this is markdown title"
   ]
  },
  {
   "cell_type": "code",
   "execution_count": 97,
   "id": "a2cfb10d",
   "metadata": {},
   "outputs": [],
   "source": [
    "\n",
    "firstarray =np.array([354, 3543, 32,2,2])"
   ]
  },
  {
   "cell_type": "code",
   "execution_count": 98,
   "id": "d022490f",
   "metadata": {},
   "outputs": [
    {
     "data": {
      "text/plain": [
       "array([ 354, 3543,   32,    2,    2])"
      ]
     },
     "execution_count": 98,
     "metadata": {},
     "output_type": "execute_result"
    }
   ],
   "source": [
    "firstarray"
   ]
  },
  {
   "cell_type": "code",
   "execution_count": 99,
   "id": "b562f3f4",
   "metadata": {},
   "outputs": [
    {
     "data": {
      "text/plain": [
       "3543"
      ]
     },
     "execution_count": 99,
     "metadata": {},
     "output_type": "execute_result"
    }
   ],
   "source": [
    "firstarray[0]\n",
    "firstarray[1]"
   ]
  },
  {
   "cell_type": "code",
   "execution_count": 100,
   "id": "a6180822",
   "metadata": {},
   "outputs": [
    {
     "data": {
      "text/plain": [
       "5"
      ]
     },
     "execution_count": 100,
     "metadata": {},
     "output_type": "execute_result"
    }
   ],
   "source": [
    "firstarray.size"
   ]
  },
  {
   "cell_type": "code",
   "execution_count": 101,
   "id": "535138de",
   "metadata": {},
   "outputs": [],
   "source": [
    "zerosmatrix = np.zeros((3,3), dtype =np.int8)"
   ]
  },
  {
   "cell_type": "code",
   "execution_count": 102,
   "id": "4c066d0d",
   "metadata": {},
   "outputs": [
    {
     "data": {
      "text/plain": [
       "array([[0, 0, 0],\n",
       "       [0, 0, 0],\n",
       "       [0, 0, 0]], dtype=int8)"
      ]
     },
     "execution_count": 102,
     "metadata": {},
     "output_type": "execute_result"
    }
   ],
   "source": [
    "zerosmatrix"
   ]
  },
  {
   "cell_type": "code",
   "execution_count": 103,
   "id": "98cb0849",
   "metadata": {},
   "outputs": [
    {
     "data": {
      "text/plain": [
       "array([[ 0,  0, 23],\n",
       "       [ 0,  0,  0],\n",
       "       [ 0,  0,  0]], dtype=int8)"
      ]
     },
     "execution_count": 103,
     "metadata": {},
     "output_type": "execute_result"
    }
   ],
   "source": [
    "zerosmatrix[0,2] = 23\n",
    "zerosmatrix"
   ]
  },
  {
   "cell_type": "code",
   "execution_count": 104,
   "id": "44424294",
   "metadata": {},
   "outputs": [
    {
     "data": {
      "text/plain": [
       "array([[ 0,  0, 23],\n",
       "       [ 0, 38,  0],\n",
       "       [ 0,  0,  0]], dtype=int8)"
      ]
     },
     "execution_count": 104,
     "metadata": {},
     "output_type": "execute_result"
    }
   ],
   "source": [
    "zerosmatrix[1,1] = 2342\n",
    "zerosmatrix"
   ]
  },
  {
   "cell_type": "markdown",
   "id": "957a6517",
   "metadata": {},
   "source": [
    "** Array Creation : using python elements **"
   ]
  },
  {
   "cell_type": "code",
   "execution_count": 105,
   "id": "77c3de0c",
   "metadata": {},
   "outputs": [],
   "source": [
    "listarray = np.array([[1,45,6],[3,76,7],[3,8,8],[34,4,7]])"
   ]
  },
  {
   "cell_type": "code",
   "execution_count": 106,
   "id": "b34a65f0",
   "metadata": {},
   "outputs": [
    {
     "data": {
      "text/plain": [
       "array([[ 1, 45,  6],\n",
       "       [ 3, 76,  7],\n",
       "       [ 3,  8,  8],\n",
       "       [34,  4,  7]])"
      ]
     },
     "execution_count": 106,
     "metadata": {},
     "output_type": "execute_result"
    }
   ],
   "source": [
    "listarray"
   ]
  },
  {
   "cell_type": "code",
   "execution_count": 107,
   "id": "7db5e02b",
   "metadata": {},
   "outputs": [
    {
     "data": {
      "text/plain": [
       "dtype('int32')"
      ]
     },
     "execution_count": 107,
     "metadata": {},
     "output_type": "execute_result"
    }
   ],
   "source": [
    "listarray.dtype"
   ]
  },
  {
   "cell_type": "code",
   "execution_count": 108,
   "id": "e4efaef8",
   "metadata": {},
   "outputs": [
    {
     "data": {
      "text/plain": [
       "(4, 3)"
      ]
     },
     "execution_count": 108,
     "metadata": {},
     "output_type": "execute_result"
    }
   ],
   "source": [
    "listarray.shape"
   ]
  },
  {
   "cell_type": "code",
   "execution_count": 109,
   "id": "923ee9f1",
   "metadata": {},
   "outputs": [],
   "source": [
    "tupplearray =np.array([{1,4,7,4},{1,5,7},{1,2}])"
   ]
  },
  {
   "cell_type": "code",
   "execution_count": 110,
   "id": "9dced018",
   "metadata": {},
   "outputs": [
    {
     "data": {
      "text/plain": [
       "set"
      ]
     },
     "execution_count": 110,
     "metadata": {},
     "output_type": "execute_result"
    }
   ],
   "source": [
    "tupplearray\n",
    "type(tupplearray[2])"
   ]
  },
  {
   "cell_type": "code",
   "execution_count": 111,
   "id": "3f8a4d61",
   "metadata": {},
   "outputs": [
    {
     "data": {
      "text/plain": [
       "array([ 0,  1,  2,  3,  4,  5,  6,  7,  8,  9, 10, 11, 12, 13, 14])"
      ]
     },
     "execution_count": 111,
     "metadata": {},
     "output_type": "execute_result"
    }
   ],
   "source": [
    "np.arange(15)"
   ]
  },
  {
   "cell_type": "code",
   "execution_count": 112,
   "id": "7e0f149e",
   "metadata": {},
   "outputs": [
    {
     "data": {
      "text/plain": [
       "array([ 0,  1,  2,  3,  4,  5,  6,  7,  8,  9, 10, 11])"
      ]
     },
     "execution_count": 112,
     "metadata": {},
     "output_type": "execute_result"
    }
   ],
   "source": [
    "arange_array =  np.arange(12)\n",
    "arange_array"
   ]
  },
  {
   "cell_type": "code",
   "execution_count": 113,
   "id": "871de7a2",
   "metadata": {},
   "outputs": [
    {
     "data": {
      "text/plain": [
       "array([1.        , 2.66666667, 4.33333333, 6.        ])"
      ]
     },
     "execution_count": 113,
     "metadata": {},
     "output_type": "execute_result"
    }
   ],
   "source": [
    "lspace_arr= np.linspace(1,6,4)\n",
    "lspace_arr"
   ]
  },
  {
   "cell_type": "code",
   "execution_count": 114,
   "id": "98d77b33",
   "metadata": {},
   "outputs": [
    {
     "data": {
      "text/plain": [
       "array([[6.23042070e-307, 4.67296746e-307, 1.69121096e-306,\n",
       "        1.02360527e-306, 1.33511562e-306],\n",
       "       [1.42413555e-306, 1.78019082e-306, 1.37959740e-306,\n",
       "        6.23057349e-307, 1.42419530e-306]])"
      ]
     },
     "execution_count": 114,
     "metadata": {},
     "output_type": "execute_result"
    }
   ],
   "source": [
    "empty_arr = np.empty((2,5)) #random array\n",
    "empty_arr"
   ]
  },
  {
   "cell_type": "code",
   "execution_count": 115,
   "id": "f0e1397f",
   "metadata": {},
   "outputs": [
    {
     "data": {
      "text/plain": [
       "array([1.        , 2.66666667, 4.33333333, 6.        ])"
      ]
     },
     "execution_count": 115,
     "metadata": {},
     "output_type": "execute_result"
    }
   ],
   "source": [
    "empty_like_arr = np.empty_like(lspace_arr)\n",
    "empty_like_arr"
   ]
  },
  {
   "cell_type": "code",
   "execution_count": 116,
   "id": "f00da7e5",
   "metadata": {},
   "outputs": [
    {
     "data": {
      "text/plain": [
       "array([[1., 0., 0.],\n",
       "       [0., 1., 0.],\n",
       "       [0., 0., 1.]])"
      ]
     },
     "execution_count": 116,
     "metadata": {},
     "output_type": "execute_result"
    }
   ],
   "source": [
    "identity_mtx= np.identity(3)\n",
    "identity_mtx"
   ]
  },
  {
   "cell_type": "code",
   "execution_count": 117,
   "id": "4de6de1f",
   "metadata": {},
   "outputs": [
    {
     "data": {
      "text/plain": [
       "array([ 0,  1,  2,  3,  4,  5,  6,  7,  8,  9, 10, 11, 12, 13, 14, 15, 16,\n",
       "       17, 18, 19, 20, 21, 22, 23, 24, 25, 26, 27, 28, 29, 30, 31, 32, 33,\n",
       "       34, 35, 36, 37, 38, 39, 40, 41, 42, 43, 44, 45, 46, 47, 48, 49, 50,\n",
       "       51, 52, 53, 54, 55, 56, 57, 58, 59, 60, 61, 62, 63, 64, 65, 66, 67,\n",
       "       68, 69, 70, 71, 72, 73, 74, 75, 76, 77, 78, 79, 80, 81, 82, 83, 84,\n",
       "       85, 86, 87, 88, 89, 90, 91, 92, 93, 94, 95, 96, 97, 98])"
      ]
     },
     "execution_count": 117,
     "metadata": {},
     "output_type": "execute_result"
    }
   ],
   "source": [
    "lspace_arr2 = np.arange(99)\n",
    "lspace_arr2"
   ]
  },
  {
   "cell_type": "code",
   "execution_count": 118,
   "id": "76d1514c",
   "metadata": {},
   "outputs": [
    {
     "data": {
      "text/plain": [
       "array([[ 0,  1,  2,  3,  4,  5,  6,  7,  8,  9, 10, 11, 12, 13, 14, 15,\n",
       "        16, 17, 18, 19, 20, 21, 22, 23, 24, 25, 26, 27, 28, 29, 30, 31,\n",
       "        32],\n",
       "       [33, 34, 35, 36, 37, 38, 39, 40, 41, 42, 43, 44, 45, 46, 47, 48,\n",
       "        49, 50, 51, 52, 53, 54, 55, 56, 57, 58, 59, 60, 61, 62, 63, 64,\n",
       "        65],\n",
       "       [66, 67, 68, 69, 70, 71, 72, 73, 74, 75, 76, 77, 78, 79, 80, 81,\n",
       "        82, 83, 84, 85, 86, 87, 88, 89, 90, 91, 92, 93, 94, 95, 96, 97,\n",
       "        98]])"
      ]
     },
     "execution_count": 118,
     "metadata": {},
     "output_type": "execute_result"
    }
   ],
   "source": [
    "lspace_arr2.reshape(3,33)"
   ]
  },
  {
   "cell_type": "code",
   "execution_count": 119,
   "id": "3fbc3660",
   "metadata": {},
   "outputs": [
    {
     "data": {
      "text/plain": [
       "array([[ 0,  1,  2,  3,  4,  5,  6,  7,  8,  9, 10, 11, 12, 13, 14, 15,\n",
       "        16, 17, 18, 19, 20, 21, 22, 23, 24, 25, 26, 27, 28, 29, 30, 31,\n",
       "        32],\n",
       "       [33, 34, 35, 36, 37, 38, 39, 40, 41, 42, 43, 44, 45, 46, 47, 48,\n",
       "        49, 50, 51, 52, 53, 54, 55, 56, 57, 58, 59, 60, 61, 62, 63, 64,\n",
       "        65],\n",
       "       [66, 67, 68, 69, 70, 71, 72, 73, 74, 75, 76, 77, 78, 79, 80, 81,\n",
       "        82, 83, 84, 85, 86, 87, 88, 89, 90, 91, 92, 93, 94, 95, 96, 97,\n",
       "        98]])"
      ]
     },
     "execution_count": 119,
     "metadata": {},
     "output_type": "execute_result"
    }
   ],
   "source": [
    "arange_arr_ls2 = lspace_arr2.reshape(3,33)\n",
    "arange_arr_ls2"
   ]
  },
  {
   "cell_type": "code",
   "execution_count": 120,
   "id": "f973f5d4",
   "metadata": {},
   "outputs": [
    {
     "data": {
      "text/plain": [
       "array([ 0,  1,  2,  3,  4,  5,  6,  7,  8,  9, 10, 11, 12, 13, 14, 15, 16,\n",
       "       17, 18, 19, 20, 21, 22, 23, 24, 25, 26, 27, 28, 29, 30, 31, 32, 33,\n",
       "       34, 35, 36, 37, 38, 39, 40, 41, 42, 43, 44, 45, 46, 47, 48, 49, 50,\n",
       "       51, 52, 53, 54, 55, 56, 57, 58, 59, 60, 61, 62, 63, 64, 65, 66, 67,\n",
       "       68, 69, 70, 71, 72, 73, 74, 75, 76, 77, 78, 79, 80, 81, 82, 83, 84,\n",
       "       85, 86, 87, 88, 89, 90, 91, 92, 93, 94, 95, 96, 97, 98])"
      ]
     },
     "execution_count": 120,
     "metadata": {},
     "output_type": "execute_result"
    }
   ],
   "source": [
    "arange_arr_ls2.ravel()"
   ]
  },
  {
   "cell_type": "code",
   "execution_count": 121,
   "id": "d0808b06",
   "metadata": {},
   "outputs": [],
   "source": [
    "sample_arr_py = [[1,3,56,3],[1,4,5,2],[3,3,1,4]]\n",
    "sample_arr_np = np.array(sample_arr_py)"
   ]
  },
  {
   "cell_type": "code",
   "execution_count": 122,
   "id": "8b8670e0",
   "metadata": {},
   "outputs": [
    {
     "data": {
      "text/plain": [
       "86"
      ]
     },
     "execution_count": 122,
     "metadata": {},
     "output_type": "execute_result"
    }
   ],
   "source": [
    "sample_arr_np.sum()"
   ]
  },
  {
   "cell_type": "code",
   "execution_count": 123,
   "id": "cbd7ed06",
   "metadata": {},
   "outputs": [
    {
     "data": {
      "text/plain": [
       "array([ 5, 10, 62,  9])"
      ]
     },
     "execution_count": 123,
     "metadata": {},
     "output_type": "execute_result"
    }
   ],
   "source": [
    "sample_arr_np.sum(axis=0)"
   ]
  },
  {
   "cell_type": "code",
   "execution_count": 124,
   "id": "2e0aec6c",
   "metadata": {},
   "outputs": [
    {
     "data": {
      "text/plain": [
       "array([63, 12, 11])"
      ]
     },
     "execution_count": 124,
     "metadata": {},
     "output_type": "execute_result"
    }
   ],
   "source": [
    "sample_arr_np.sum(axis=1)"
   ]
  },
  {
   "cell_type": "code",
   "execution_count": 125,
   "id": "13dc7631",
   "metadata": {},
   "outputs": [
    {
     "data": {
      "text/plain": [
       "array([[ 1,  1,  3],\n",
       "       [ 3,  4,  3],\n",
       "       [56,  5,  1],\n",
       "       [ 3,  2,  4]])"
      ]
     },
     "execution_count": 125,
     "metadata": {},
     "output_type": "execute_result"
    }
   ],
   "source": [
    "sample_arr_np.T"
   ]
  },
  {
   "cell_type": "code",
   "execution_count": 126,
   "id": "1ab79a8f",
   "metadata": {},
   "outputs": [
    {
     "data": {
      "text/plain": [
       "<numpy.flatiter at 0x14c2bb41c0>"
      ]
     },
     "execution_count": 126,
     "metadata": {},
     "output_type": "execute_result"
    }
   ],
   "source": [
    "sample_arr_np.flat"
   ]
  },
  {
   "cell_type": "code",
   "execution_count": 127,
   "id": "2c54aa83",
   "metadata": {},
   "outputs": [
    {
     "name": "stdout",
     "output_type": "stream",
     "text": [
      "1\n",
      "3\n",
      "56\n",
      "3\n",
      "1\n",
      "4\n",
      "5\n",
      "2\n",
      "3\n",
      "3\n",
      "1\n",
      "4\n"
     ]
    }
   ],
   "source": [
    "for item in sample_arr_np.flat:\n",
    "    print(f\"{item}\")"
   ]
  },
  {
   "cell_type": "code",
   "execution_count": 128,
   "id": "e7a3e933",
   "metadata": {},
   "outputs": [
    {
     "data": {
      "text/plain": [
       "2"
      ]
     },
     "execution_count": 128,
     "metadata": {},
     "output_type": "execute_result"
    }
   ],
   "source": [
    "sample_arr_np.ndim"
   ]
  },
  {
   "cell_type": "code",
   "execution_count": 129,
   "id": "2f520087",
   "metadata": {},
   "outputs": [
    {
     "data": {
      "text/plain": [
       "48"
      ]
     },
     "execution_count": 129,
     "metadata": {},
     "output_type": "execute_result"
    }
   ],
   "source": [
    "sample_arr_np.nbytes"
   ]
  },
  {
   "cell_type": "code",
   "execution_count": 130,
   "id": "04ab8482",
   "metadata": {},
   "outputs": [],
   "source": [
    "oneDarr = np.array([1,4,5,2])"
   ]
  },
  {
   "cell_type": "code",
   "execution_count": 131,
   "id": "6cfb3816",
   "metadata": {},
   "outputs": [
    {
     "data": {
      "text/plain": [
       "2"
      ]
     },
     "execution_count": 131,
     "metadata": {},
     "output_type": "execute_result"
    }
   ],
   "source": [
    "oneDarr.argmax()"
   ]
  },
  {
   "cell_type": "code",
   "execution_count": 132,
   "id": "e54dcea8",
   "metadata": {},
   "outputs": [
    {
     "data": {
      "text/plain": [
       "array([0, 3, 1, 2], dtype=int64)"
      ]
     },
     "execution_count": 132,
     "metadata": {},
     "output_type": "execute_result"
    }
   ],
   "source": [
    "oneDarr.argsort()"
   ]
  },
  {
   "cell_type": "code",
   "execution_count": 133,
   "id": "5c7f1a42",
   "metadata": {},
   "outputs": [
    {
     "data": {
      "text/plain": [
       "array([[0, 1, 3, 2],\n",
       "       [0, 3, 1, 2],\n",
       "       [2, 0, 1, 3]], dtype=int64)"
      ]
     },
     "execution_count": 133,
     "metadata": {},
     "output_type": "execute_result"
    }
   ],
   "source": [
    "sample_arr_np.argsort()"
   ]
  },
  {
   "cell_type": "code",
   "execution_count": 134,
   "id": "982275c2",
   "metadata": {},
   "outputs": [
    {
     "data": {
      "text/plain": [
       "2"
      ]
     },
     "execution_count": 134,
     "metadata": {},
     "output_type": "execute_result"
    }
   ],
   "source": [
    "sample_arr_np.argmax()"
   ]
  },
  {
   "cell_type": "code",
   "execution_count": 135,
   "id": "5c62ecd3",
   "metadata": {},
   "outputs": [
    {
     "data": {
      "text/plain": [
       "array([0, 0, 2], dtype=int64)"
      ]
     },
     "execution_count": 135,
     "metadata": {},
     "output_type": "execute_result"
    }
   ],
   "source": [
    "sample_arr_np.argmin(axis=1)"
   ]
  },
  {
   "cell_type": "code",
   "execution_count": 136,
   "id": "f145acd2",
   "metadata": {},
   "outputs": [
    {
     "data": {
      "text/plain": [
       "array([[0, 0, 0, 0],\n",
       "       [0, 0, 0, 0],\n",
       "       [0, 0, 0, 0]])"
      ]
     },
     "execution_count": 136,
     "metadata": {},
     "output_type": "execute_result"
    }
   ],
   "source": [
    "sample_arr_np1 = np.empty_like(sample_arr_np)\n",
    "sample_arr_np1"
   ]
  },
  {
   "cell_type": "code",
   "execution_count": 137,
   "id": "b0b9e84d",
   "metadata": {},
   "outputs": [
    {
     "data": {
      "text/plain": [
       "array([[ 1,  3, 56,  3],\n",
       "       [ 1,  4,  5,  2],\n",
       "       [ 3,  3,  1,  4]])"
      ]
     },
     "execution_count": 137,
     "metadata": {},
     "output_type": "execute_result"
    }
   ],
   "source": [
    "sample_arr_np1 + sample_arr_np"
   ]
  },
  {
   "cell_type": "code",
   "execution_count": 138,
   "id": "d247862a",
   "metadata": {},
   "outputs": [
    {
     "data": {
      "text/plain": [
       "array([[0, 0, 0, 0],\n",
       "       [0, 0, 0, 0],\n",
       "       [0, 0, 0, 0]])"
      ]
     },
     "execution_count": 138,
     "metadata": {},
     "output_type": "execute_result"
    }
   ],
   "source": [
    "sample_arr_np * sample_arr_np1"
   ]
  },
  {
   "cell_type": "code",
   "execution_count": 139,
   "id": "be797a0d",
   "metadata": {},
   "outputs": [
    {
     "data": {
      "text/plain": [
       "array([[1.        , 1.73205081, 7.48331477, 1.73205081],\n",
       "       [1.        , 2.        , 2.23606798, 1.41421356],\n",
       "       [1.73205081, 1.73205081, 1.        , 2.        ]])"
      ]
     },
     "execution_count": 139,
     "metadata": {},
     "output_type": "execute_result"
    }
   ],
   "source": [
    "np.sqrt(sample_arr_np)"
   ]
  },
  {
   "cell_type": "code",
   "execution_count": 140,
   "id": "a58845b0",
   "metadata": {},
   "outputs": [
    {
     "data": {
      "text/plain": [
       "(array([], dtype=int64), array([], dtype=int64))"
      ]
     },
     "execution_count": 140,
     "metadata": {},
     "output_type": "execute_result"
    }
   ],
   "source": [
    "np.where(sample_arr_np1>600)"
   ]
  },
  {
   "cell_type": "code",
   "execution_count": 141,
   "id": "7428e3a1",
   "metadata": {},
   "outputs": [],
   "source": [
    "import sys"
   ]
  },
  {
   "cell_type": "code",
   "execution_count": 142,
   "id": "649039fb",
   "metadata": {},
   "outputs": [
    {
     "data": {
      "text/plain": [
       "84"
      ]
     },
     "execution_count": 142,
     "metadata": {},
     "output_type": "execute_result"
    }
   ],
   "source": [
    "sys.getsizeof(1)*len(sample_arr_py)"
   ]
  },
  {
   "cell_type": "code",
   "execution_count": 94,
   "id": "24ac0853",
   "metadata": {},
   "outputs": [
    {
     "data": {
      "text/plain": [
       "80"
      ]
     },
     "execution_count": 94,
     "metadata": {},
     "output_type": "execute_result"
    }
   ],
   "source": [
    "sys.getsizeof(sample_arr_py)"
   ]
  },
  {
   "cell_type": "code",
   "execution_count": 91,
   "id": "eb5b9150",
   "metadata": {},
   "outputs": [
    {
     "data": {
      "text/plain": [
       "48"
      ]
     },
     "execution_count": 91,
     "metadata": {},
     "output_type": "execute_result"
    }
   ],
   "source": [
    "sample_arr_np.itemsize*sample_arr_np.size"
   ]
  },
  {
   "cell_type": "code",
   "execution_count": 93,
   "id": "b3651cf6",
   "metadata": {},
   "outputs": [
    {
     "data": {
      "text/plain": [
       "176"
      ]
     },
     "execution_count": 93,
     "metadata": {},
     "output_type": "execute_result"
    }
   ],
   "source": [
    "sys.getsizeof(sample_arr_np)"
   ]
  }
 ],
 "metadata": {
  "kernelspec": {
   "display_name": "Python 3.10.6 64-bit",
   "language": "python",
   "name": "python3"
  },
  "language_info": {
   "codemirror_mode": {
    "name": "ipython",
    "version": 3
   },
   "file_extension": ".py",
   "mimetype": "text/x-python",
   "name": "python",
   "nbconvert_exporter": "python",
   "pygments_lexer": "ipython3",
   "version": "3.10.6"
  },
  "vscode": {
   "interpreter": {
    "hash": "1785a13c7121c70a7948f6496da21bced554ca385cf8291f7889d9c5c184fe31"
   }
  }
 },
 "nbformat": 4,
 "nbformat_minor": 5
}
