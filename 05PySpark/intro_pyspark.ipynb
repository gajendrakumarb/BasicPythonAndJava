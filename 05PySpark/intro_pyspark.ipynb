{
 "cells": [
  {
   "cell_type": "code",
   "execution_count": null,
   "metadata": {},
   "outputs": [],
   "source": [
    "import pyspark\n",
    "import pandas as pd"
   ]
  },
  {
   "cell_type": "code",
   "execution_count": null,
   "id": "5ad088c3",
   "metadata": {},
   "outputs": [],
   "source": [
    "pad"
   ]
  }
 ],
 "metadata": {
  "kernelspec": {
   "display_name": "Python 3.10.6 64-bit",
   "language": "python",
   "name": "python3"
  },
  "language_info": {
   "name": "python",
   "version": "3.10.6"
  },
  "vscode": {
   "interpreter": {
    "hash": "1785a13c7121c70a7948f6496da21bced554ca385cf8291f7889d9c5c184fe31"
   }
  }
 },
 "nbformat": 4,
 "nbformat_minor": 5
}
